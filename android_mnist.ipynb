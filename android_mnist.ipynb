{
  "nbformat": 4,
  "nbformat_minor": 0,
  "metadata": {
    "colab": {
      "name": "android-mnist.ipynb",
      "provenance": []
    },
    "kernelspec": {
      "name": "python3",
      "display_name": "Python 3"
    },
    "accelerator": "GPU"
  },
  "cells": [
    {
      "cell_type": "code",
      "metadata": {
        "id": "em_JqxH2YUax",
        "colab_type": "code",
        "colab": {}
      },
      "source": [
        "import math\n",
        "\n",
        "import tensorflow as tf\n",
        "from tensorflow.keras.callbacks import LearningRateScheduler\n",
        "from tensorflow.keras.datasets import mnist\n",
        "from tensorflow.keras.initializers import Constant\n",
        "from tensorflow.keras.layers import Input, Conv2D, BatchNormalization, Activation, Dropout, Flatten, Dense\n",
        "from tensorflow.keras.models import Model\n",
        "from tensorflow.keras.utils import to_categorical"
      ],
      "execution_count": 0,
      "outputs": []
    },
    {
      "cell_type": "code",
      "metadata": {
        "id": "J82gwHTZYkiT",
        "colab_type": "code",
        "colab": {}
      },
      "source": [
        "NUM_CLASS = 10"
      ],
      "execution_count": 0,
      "outputs": []
    },
    {
      "cell_type": "code",
      "metadata": {
        "id": "NCIwZGKgYoPt",
        "colab_type": "code",
        "colab": {}
      },
      "source": [
        "(x_train, y_train), (x_test, y_test) = mnist.load_data(path='mnist.npz')"
      ],
      "execution_count": 0,
      "outputs": []
    },
    {
      "cell_type": "code",
      "metadata": {
        "id": "8WwjKnGrYuiT",
        "colab_type": "code",
        "colab": {}
      },
      "source": [
        "x_train = x_train.reshape(x_train.shape[0], x_train.shape[1], x_train.shape[2], 1)\n",
        "x_test = x_test.reshape(x_test.shape[0], x_test.shape[1], x_test.shape[2], 1)"
      ],
      "execution_count": 0,
      "outputs": []
    },
    {
      "cell_type": "code",
      "metadata": {
        "id": "Uk1VB9DnY3PV",
        "colab_type": "code",
        "colab": {
          "base_uri": "https://localhost:8080/",
          "height": 51
        },
        "outputId": "f33e5333-8c93-49af-fe29-7f0093245d82"
      },
      "source": [
        "print(len(x_train))\n",
        "print(len(x_test))"
      ],
      "execution_count": 43,
      "outputs": [
        {
          "output_type": "stream",
          "text": [
            "60000\n",
            "10000\n"
          ],
          "name": "stdout"
        }
      ]
    },
    {
      "cell_type": "code",
      "metadata": {
        "id": "qGV16HyaZGPf",
        "colab_type": "code",
        "colab": {
          "base_uri": "https://localhost:8080/",
          "height": 51
        },
        "outputId": "63bcc300-0bfa-4e52-f048-bd1099766ee2"
      },
      "source": [
        "x_train = x_train / 255.0\n",
        "x_test = x_test / 255.0\n",
        "\n",
        "y_train = to_categorical(y_train, NUM_CLASS)\n",
        "y_test = to_categorical(y_test, NUM_CLASS)\n",
        "\n",
        "print(\"x_train.shape = {}, y_train.shape = {}\".format(x_train.shape, y_train.shape))\n",
        "print(\"x_test.shape = {}, y_test.shape = {}\".format(x_test.shape, y_test.shape))"
      ],
      "execution_count": 44,
      "outputs": [
        {
          "output_type": "stream",
          "text": [
            "x_train.shape = (60000, 28, 28, 1), y_train.shape = (60000, 10)\n",
            "x_test.shape = (10000, 28, 28, 1), y_test.shape = (10000, 10)\n"
          ],
          "name": "stdout"
        }
      ]
    },
    {
      "cell_type": "code",
      "metadata": {
        "id": "hNmAZZvgZMTf",
        "colab_type": "code",
        "colab": {}
      },
      "source": [
        "inputs = Input(shape=(28, 28, 1), name='input')\n",
        "\n",
        "x = Conv2D(24, kernel_size=(6, 6), strides=1)(inputs)\n",
        "x = BatchNormalization(scale=False, beta_initializer=Constant(0.01))(x)\n",
        "x = Activation('relu')(x)\n",
        "x = Dropout(rate=0.25)(x)\n",
        "\n",
        "x = Conv2D(48, kernel_size=(5, 5), strides=2)(x)\n",
        "x = BatchNormalization(scale=False, beta_initializer=Constant(0.01))(x)\n",
        "x = Activation('relu')(x)\n",
        "x = Dropout(rate=0.25)(x)\n",
        "\n",
        "x = Conv2D(64, kernel_size=(4, 4), strides=2)(x)\n",
        "x = BatchNormalization(scale=False, beta_initializer=Constant(0.01))(x)\n",
        "x = Activation('relu')(x)\n",
        "x = Dropout(rate=0.25)(x)\n",
        "\n",
        "x = Flatten()(x)\n",
        "x = Dense(200)(x)\n",
        "x = BatchNormalization(scale=False, beta_initializer=Constant(0.01))(x)\n",
        "x = Activation('relu')(x)\n",
        "x = Dropout(rate=0.25)(x)\n",
        "\n",
        "predications = Dense(NUM_CLASS, activation='softmax', name='output')(x)\n",
        "\n",
        "model = Model(inputs=inputs, outputs=predications)\n",
        "model.compile(loss='categorical_crossentropy', optimizer='adam', metrics=['accuracy'])"
      ],
      "execution_count": 0,
      "outputs": []
    },
    {
      "cell_type": "code",
      "metadata": {
        "id": "t1v0zCraZVJj",
        "colab_type": "code",
        "colab": {
          "base_uri": "https://localhost:8080/",
          "height": 795
        },
        "outputId": "5cd78d5a-5305-4868-d8b8-b88a8dd55e49"
      },
      "source": [
        "model.summary()"
      ],
      "execution_count": 46,
      "outputs": [
        {
          "output_type": "stream",
          "text": [
            "Model: \"model_2\"\n",
            "_________________________________________________________________\n",
            "Layer (type)                 Output Shape              Param #   \n",
            "=================================================================\n",
            "input (InputLayer)           [(None, 28, 28, 1)]       0         \n",
            "_________________________________________________________________\n",
            "conv2d_9 (Conv2D)            (None, 23, 23, 24)        888       \n",
            "_________________________________________________________________\n",
            "batch_normalization_12 (Batc (None, 23, 23, 24)        72        \n",
            "_________________________________________________________________\n",
            "activation_12 (Activation)   (None, 23, 23, 24)        0         \n",
            "_________________________________________________________________\n",
            "dropout_14 (Dropout)         (None, 23, 23, 24)        0         \n",
            "_________________________________________________________________\n",
            "conv2d_10 (Conv2D)           (None, 10, 10, 48)        28848     \n",
            "_________________________________________________________________\n",
            "batch_normalization_13 (Batc (None, 10, 10, 48)        144       \n",
            "_________________________________________________________________\n",
            "activation_13 (Activation)   (None, 10, 10, 48)        0         \n",
            "_________________________________________________________________\n",
            "dropout_15 (Dropout)         (None, 10, 10, 48)        0         \n",
            "_________________________________________________________________\n",
            "conv2d_11 (Conv2D)           (None, 4, 4, 64)          49216     \n",
            "_________________________________________________________________\n",
            "batch_normalization_14 (Batc (None, 4, 4, 64)          192       \n",
            "_________________________________________________________________\n",
            "activation_14 (Activation)   (None, 4, 4, 64)          0         \n",
            "_________________________________________________________________\n",
            "dropout_16 (Dropout)         (None, 4, 4, 64)          0         \n",
            "_________________________________________________________________\n",
            "flatten_5 (Flatten)          (None, 1024)              0         \n",
            "_________________________________________________________________\n",
            "dense_7 (Dense)              (None, 200)               205000    \n",
            "_________________________________________________________________\n",
            "batch_normalization_15 (Batc (None, 200)               600       \n",
            "_________________________________________________________________\n",
            "activation_15 (Activation)   (None, 200)               0         \n",
            "_________________________________________________________________\n",
            "dropout_17 (Dropout)         (None, 200)               0         \n",
            "_________________________________________________________________\n",
            "output (Dense)               (None, 10)                2010      \n",
            "=================================================================\n",
            "Total params: 286,970\n",
            "Trainable params: 286,298\n",
            "Non-trainable params: 672\n",
            "_________________________________________________________________\n"
          ],
          "name": "stdout"
        }
      ]
    },
    {
      "cell_type": "code",
      "metadata": {
        "id": "pNjrl37GZZMt",
        "colab_type": "code",
        "colab": {
          "base_uri": "https://localhost:8080/",
          "height": 731
        },
        "outputId": "5f429f3a-9a38-48c5-9cdf-594f6942b342"
      },
      "source": [
        "lr_decay = lambda epoch: 0.0001 + 0.02 * math.pow(1.0 / math.e, epoch / 3.0)\n",
        "decay_callback = LearningRateScheduler(lr_decay, verbose=1)\n",
        "\n",
        "history = model.fit(x_train, y_train, batch_size=128, epochs=10, verbose=1, \n",
        "                    validation_data=(x_test, y_test), callbacks=[decay_callback])"
      ],
      "execution_count": 47,
      "outputs": [
        {
          "output_type": "stream",
          "text": [
            "Train on 60000 samples, validate on 10000 samples\n",
            "\n",
            "Epoch 00001: LearningRateScheduler reducing learning rate to 0.0201.\n",
            "Epoch 1/10\n",
            "60000/60000 [==============================] - 9s 145us/sample - loss: 0.1559 - acc: 0.9527 - val_loss: 0.0477 - val_acc: 0.9861\n",
            "\n",
            "Epoch 00002: LearningRateScheduler reducing learning rate to 0.014430626211475785.\n",
            "Epoch 2/10\n",
            "60000/60000 [==============================] - 8s 133us/sample - loss: 0.0618 - acc: 0.9813 - val_loss: 0.0404 - val_acc: 0.9876\n",
            "\n",
            "Epoch 00003: LearningRateScheduler reducing learning rate to 0.01036834238065184.\n",
            "Epoch 3/10\n",
            "60000/60000 [==============================] - 8s 132us/sample - loss: 0.0468 - acc: 0.9854 - val_loss: 0.0311 - val_acc: 0.9912\n",
            "\n",
            "Epoch 00004: LearningRateScheduler reducing learning rate to 0.007457588823428847.\n",
            "Epoch 4/10\n",
            "60000/60000 [==============================] - 8s 133us/sample - loss: 0.0334 - acc: 0.9890 - val_loss: 0.0241 - val_acc: 0.9920\n",
            "\n",
            "Epoch 00005: LearningRateScheduler reducing learning rate to 0.005371942762314537.\n",
            "Epoch 5/10\n",
            "60000/60000 [==============================] - 8s 132us/sample - loss: 0.0269 - acc: 0.9912 - val_loss: 0.0199 - val_acc: 0.9939\n",
            "\n",
            "Epoch 00006: LearningRateScheduler reducing learning rate to 0.0038775120567512366.\n",
            "Epoch 6/10\n",
            "60000/60000 [==============================] - 8s 133us/sample - loss: 0.0244 - acc: 0.9925 - val_loss: 0.0188 - val_acc: 0.9942\n",
            "\n",
            "Epoch 00007: LearningRateScheduler reducing learning rate to 0.002806705664732254.\n",
            "Epoch 7/10\n",
            "60000/60000 [==============================] - 8s 139us/sample - loss: 0.0197 - acc: 0.9937 - val_loss: 0.0170 - val_acc: 0.9948\n",
            "\n",
            "Epoch 00008: LearningRateScheduler reducing learning rate to 0.002039439357288101.\n",
            "Epoch 8/10\n",
            "60000/60000 [==============================] - 9s 145us/sample - loss: 0.0163 - acc: 0.9948 - val_loss: 0.0173 - val_acc: 0.9941\n",
            "\n",
            "Epoch 00009: LearningRateScheduler reducing learning rate to 0.0014896690244560313.\n",
            "Epoch 9/10\n",
            "60000/60000 [==============================] - 8s 141us/sample - loss: 0.0146 - acc: 0.9953 - val_loss: 0.0152 - val_acc: 0.9955\n",
            "\n",
            "Epoch 00010: LearningRateScheduler reducing learning rate to 0.001095741367357279.\n",
            "Epoch 10/10\n",
            "60000/60000 [==============================] - 9s 144us/sample - loss: 0.0134 - acc: 0.9954 - val_loss: 0.0156 - val_acc: 0.9952\n"
          ],
          "name": "stdout"
        }
      ]
    },
    {
      "cell_type": "code",
      "metadata": {
        "id": "wt9f8nR9hPFK",
        "colab_type": "code",
        "colab": {
          "base_uri": "https://localhost:8080/",
          "height": 34
        },
        "outputId": "dc393c54-8d1d-43ad-e928-2a028a6b8c52"
      },
      "source": [
        "model.input_shape"
      ],
      "execution_count": 50,
      "outputs": [
        {
          "output_type": "execute_result",
          "data": {
            "text/plain": [
              "(None, 28, 28, 1)"
            ]
          },
          "metadata": {
            "tags": []
          },
          "execution_count": 50
        }
      ]
    },
    {
      "cell_type": "code",
      "metadata": {
        "id": "RBYfs4dyZacG",
        "colab_type": "code",
        "colab": {}
      },
      "source": [
        "model.save('model.h5')"
      ],
      "execution_count": 0,
      "outputs": []
    },
    {
      "cell_type": "code",
      "metadata": {
        "id": "_EstyzlAZNdB",
        "colab_type": "code",
        "colab": {
          "base_uri": "https://localhost:8080/",
          "height": 392
        },
        "outputId": "27f7c75c-2ebe-42b2-aa76-ae4dbe16a137"
      },
      "source": [
        "converter = tf.lite.TFLiteConverter.from_keras_model_file('model.h5')\n",
        "tflite_model = converter.convert()\n",
        "open('mnist-model.tflite', 'wb').write(tflite_model)"
      ],
      "execution_count": 49,
      "outputs": [
        {
          "output_type": "stream",
          "text": [
            "WARNING:tensorflow:From /usr/local/lib/python3.6/dist-packages/tensorflow_core/python/ops/init_ops.py:97: calling GlorotUniform.__init__ (from tensorflow.python.ops.init_ops) with dtype is deprecated and will be removed in a future version.\n",
            "Instructions for updating:\n",
            "Call initializer instance with the dtype argument instead of passing it to the constructor\n",
            "WARNING:tensorflow:From /usr/local/lib/python3.6/dist-packages/tensorflow_core/python/ops/init_ops.py:97: calling Zeros.__init__ (from tensorflow.python.ops.init_ops) with dtype is deprecated and will be removed in a future version.\n",
            "Instructions for updating:\n",
            "Call initializer instance with the dtype argument instead of passing it to the constructor\n",
            "WARNING:tensorflow:From /usr/local/lib/python3.6/dist-packages/tensorflow_core/python/ops/init_ops.py:97: calling Constant.__init__ (from tensorflow.python.ops.init_ops) with dtype is deprecated and will be removed in a future version.\n",
            "Instructions for updating:\n",
            "Call initializer instance with the dtype argument instead of passing it to the constructor\n",
            "WARNING:tensorflow:From /usr/local/lib/python3.6/dist-packages/tensorflow_core/python/ops/init_ops.py:97: calling Ones.__init__ (from tensorflow.python.ops.init_ops) with dtype is deprecated and will be removed in a future version.\n",
            "Instructions for updating:\n",
            "Call initializer instance with the dtype argument instead of passing it to the constructor\n",
            "WARNING:tensorflow:From /usr/local/lib/python3.6/dist-packages/tensorflow_core/lite/python/util.py:249: convert_variables_to_constants (from tensorflow.python.framework.graph_util_impl) is deprecated and will be removed in a future version.\n",
            "Instructions for updating:\n",
            "Use `tf.compat.v1.graph_util.convert_variables_to_constants`\n",
            "WARNING:tensorflow:From /usr/local/lib/python3.6/dist-packages/tensorflow_core/python/framework/graph_util_impl.py:277: extract_sub_graph (from tensorflow.python.framework.graph_util_impl) is deprecated and will be removed in a future version.\n",
            "Instructions for updating:\n",
            "Use `tf.compat.v1.graph_util.extract_sub_graph`\n",
            "INFO:tensorflow:Froze 22 variables.\n",
            "INFO:tensorflow:Converted 22 variables to const ops.\n"
          ],
          "name": "stdout"
        },
        {
          "output_type": "execute_result",
          "data": {
            "text/plain": [
              "1146028"
            ]
          },
          "metadata": {
            "tags": []
          },
          "execution_count": 49
        }
      ]
    }
  ]
}